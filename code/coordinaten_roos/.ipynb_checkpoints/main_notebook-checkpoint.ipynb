{
 "cells": [
  {
   "cell_type": "code",
   "execution_count": null,
   "metadata": {
    "collapsed": false
   },
   "outputs": [],
   "source": [
    "import housetype as ht\n",
    "import shortestdistance as sd\n",
    "import random\n",
    "import matplotlib.pyplot as plt\n",
    "\n",
    "def findClosest(houses):\n",
    "    house1 = houses[0]\n",
    "    distance = 160\n",
    "    closest = houses[1]\n",
    "    for house in range(len(houses) - 2):\n",
    "        print(houses[house])\n",
    "        current = houses[2 + house]\n",
    "        if(((house1.x1 - current.x1) < distance) and ((house1.x1 - current.x1) > 0)):\n",
    "            closest = current\n",
    "            distance = house1.x1 - current.x1\n",
    "        if((abs((house1.x2 - current.x2)) < distance)):\n",
    "            closest = current\n",
    "            distance = abs(house1.x2 - current.x2)\n",
    "            \n",
    "        print(\"current positions x1 and x2: \", current.x1, current.x2, \n",
    "              \"current distance x1 and x2: \", round(house1.x1 - current.x1, 1), round(house1.x1 - current.x1, 1))\n",
    "    print(\"house1 x1 and x2: \", house1.x1, house1.x2)\n",
    "    print(\"position x1 and x2 closest house: \", closest.x1, closest.x2)\n",
    "    print(\"distance: \", round(distance, 1))\n",
    "\n",
    "def main():\n",
    "    \n",
    "    houses = []\n",
    "    \n",
    "    for i in range(20):\n",
    "        \n",
    "        x = round(random.random() * 160, 1)\n",
    "        y = round(random.random() * 180, 1)\n",
    "        \n",
    "        houses.append(ht.maison(x, y))\n",
    "    \n",
    "    for i in range(20):\n",
    "        \n",
    "        for j in range(20):\n",
    "            \n",
    "            if not i == j:\n",
    "                \n",
    "                distance = sd.Shortest(houses[i], houses[j])\n",
    "                houses[i].value(distance)\n",
    "                #print(\"house value: \", houses[i].totalValue)\n",
    "                #print(distance)\n",
    "                \n",
    "    xlist = [house.x1 for house in houses]\n",
    "    ylist = [house.y1 for house in houses]\n",
    "    print(xlist)\n",
    "    print(ylist)\n",
    "    \n",
    "    plt.figure()\n",
    "    plt.plot(xlist, ylist, 'bo')\n",
    "    plt.show()\n",
    "    \n",
    "    findClosest(houses)\n",
    "    \n",
    "if __name__ == \"__main__\":\n",
    "    main()\n",
    "    \n"
   ]
  },
  {
   "cell_type": "code",
   "execution_count": null,
   "metadata": {
    "collapsed": false
   },
   "outputs": [],
   "source": [
    "print(\"hallo\")"
   ]
  },
  {
   "cell_type": "code",
   "execution_count": null,
   "metadata": {
    "collapsed": true
   },
   "outputs": [],
   "source": []
  }
 ],
 "metadata": {
  "anaconda-cloud": {},
  "kernelspec": {
   "display_name": "Python 3",
   "language": "python",
   "name": "python3"
  },
  "language_info": {
   "codemirror_mode": {
    "name": "ipython",
    "version": 3
   },
   "file_extension": ".py",
   "mimetype": "text/x-python",
   "name": "python",
   "nbconvert_exporter": "python",
   "pygments_lexer": "ipython3",
   "version": "3.6.4"
  }
 },
 "nbformat": 4,
 "nbformat_minor": 1
}
