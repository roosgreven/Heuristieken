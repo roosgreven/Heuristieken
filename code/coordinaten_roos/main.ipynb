{
 "cells": [
  {
   "cell_type": "code",
   "execution_count": 1,
   "metadata": {
    "collapsed": false
   },
   "outputs": [
    {
     "name": "stdout",
     "output_type": "stream",
     "text": [
      "hallo\n"
     ]
    }
   ],
   "source": [
    "print(\"hallo\")"
   ]
  },
  {
   "cell_type": "code",
   "execution_count": 34,
   "metadata": {
    "collapsed": false
   },
   "outputs": [
    {
     "name": "stdout",
     "output_type": "stream",
     "text": [
      "[125.7, 148.5, 153.6, 46.7, 109.7, 104.4, 145.4, 56.3, 155.3, 11.7, 100.2, 68.3, 155.6, 27.8, 33.0, 23.0, 93.6, 103.1, 144.3, 69.4]\n",
      "[4.0, 77.9, 87.0, 103.0, 138.7, 156.3, 121.4, 142.7, 50.1, 24.7, 95.8, 71.0, 31.0, 100.2, 136.9, 128.4, 47.0, 37.9, 79.4, 148.9]\n"
     ]
    },
    {
     "data": {
      "image/png": "[encoded data removed]",
      "text/plain": [
       "<Figure size 432x288 with 1 Axes>"
      ]
     },
     "metadata": {},
     "output_type": "display_data"
    },
    {
     "name": "stdout",
     "output_type": "stream",
     "text": [
      "0\n",
      "0\n"
     ]
    }
   ],
   "source": [
    "import housetype as ht\n",
    "import shortestdistance as sd\n",
    "import random\n",
    "import matplotlib.pyplot as plt\n",
    "\n",
    "def findClosestHouse(houses, chosenHouse):\n",
    "    distance = 160\n",
    "    closestHouse = houses[0]\n",
    "    \n",
    "    for i in range(len(houses)):\n",
    "        if i == chosenHouse:\n",
    "            print('hallo')\n",
    "            return\n",
    "        if(sd.Shortest(chosenHouse, houses[i]) < distance):\n",
    "            print(i)\n",
    "            distance = sd.Shortest(chosenHouse, houses[i])\n",
    "            closestHouse = houses[i]\n",
    "            \n",
    "    print(distance)\n",
    "            \n",
    "def main():\n",
    "    \n",
    "    houses = []\n",
    "    numberOfHouses = 20\n",
    "    \n",
    "    for i in range(numberOfHouses):\n",
    "        \n",
    "        x = round(random.random() * 160, 1)\n",
    "        y = round(random.random() * 180, 1)\n",
    "        \n",
    "        houses.append(ht.maison(x, y))\n",
    "                   \n",
    "    xlist = [house.x1 for house in houses]\n",
    "    ylist = [house.y1 for house in houses]\n",
    "    print(xlist)\n",
    "    print(ylist)\n",
    "    \n",
    "    plt.figure()\n",
    "    plt.plot(xlist, ylist, 'bo')\n",
    "    plt.show()\n",
    "    \n",
    "    findClosestHouse(houses, houses[0])\n",
    "    \n",
    "    \n",
    "if __name__ == \"__main__\":\n",
    "    main()"
   ]
  },
  {
   "cell_type": "code",
   "execution_count": null,
   "metadata": {
    "collapsed": true
   },
   "outputs": [],
   "source": []
  },
  {
   "cell_type": "code",
   "execution_count": null,
   "metadata": {
    "collapsed": true
   },
   "outputs": [],
   "source": []
  }
 ],
 "metadata": {
  "kernelspec": {
   "display_name": "Python 3",
   "language": "python",
   "name": "python3"
  },
  "language_info": {
   "codemirror_mode": {
    "name": "ipython",
    "version": 3
   },
   "file_extension": ".py",
   "mimetype": "text/x-python",
   "name": "python",
   "nbconvert_exporter": "python",
   "pygments_lexer": "ipython3",
   "version": "3.6.4"
  }
 },
 "nbformat": 4,
 "nbformat_minor": 1
}
