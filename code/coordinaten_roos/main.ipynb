{
 "cells": [
  {
   "cell_type": "code",
   "execution_count": 1,
   "metadata": {
    "collapsed": false
   },
   "outputs": [
    {
     "name": "stdout",
     "output_type": "stream",
     "text": [
      "hallo\n"
     ]
    }
   ],
   "source": [
    "print(\"hallo\")"
   ]
  },
  {
   "cell_type": "code",
   "execution_count": 27,
   "metadata": {
    "collapsed": false
   },
   "outputs": [
    {
     "name": "stdout",
     "output_type": "stream",
     "text": [
      "[18.7, 48.1, 137.1, 131.7, 82.2, 123.7, 4.7, 36.1, 34.9, 152.6, 157.0, 27.0, 57.3, 118.2, 10.8, 95.3, 38.7, 17.8, 42.8, 146.5]\n",
      "[61.3, 107.2, 4.9, 57.0, 130.2, 160.2, 130.1, 91.2, 51.0, 103.0, 42.3, 87.4, 9.8, 34.6, 42.7, 58.4, 92.6, 37.3, 145.1, 11.1]\n"
     ]
    },
    {
     "data": {
      "image/png": "[encoded data removed]",
      "text/plain": [
       "<Figure size 432x288 with 1 Axes>"
      ]
     },
     "metadata": {},
     "output_type": "display_data"
    },
    {
     "name": "stdout",
     "output_type": "stream",
     "text": [
      "0\n"
     ]
    }
   ],
   "source": [
    "import housetype as ht\n",
    "import shortestdistance as sd\n",
    "import random\n",
    "import matplotlib.pyplot as plt\n",
    "\n",
    "def findClosestHouse(houses, chosenHouse):\n",
    "    distance = 160\n",
    "    closestHouse = houses[0]\n",
    "    \n",
    "    for i in range(len(houses)):\n",
    "        if i == closestHouse:\n",
    "            print('hallo')\n",
    "        if(sd.Shortest(chosenHouse, houses[i]) < distance):\n",
    "            distance = sd.Shortest(chosenHouse, houses[i])\n",
    "            closestHouse = houses[i]\n",
    "            \n",
    "    print(distance)\n",
    "            \n",
    "def main():\n",
    "    \n",
    "    houses = []\n",
    "    numberOfHouses = 20\n",
    "    \n",
    "    for i in range(numberOfHouses):\n",
    "        \n",
    "        x = round(random.random() * 160, 1)\n",
    "        y = round(random.random() * 180, 1)\n",
    "        \n",
    "        houses.append(ht.maison(x, y))\n",
    "                   \n",
    "    xlist = [house.x1 for house in houses]\n",
    "    ylist = [house.y1 for house in houses]\n",
    "    print(xlist)\n",
    "    print(ylist)\n",
    "    \n",
    "    plt.figure()\n",
    "    plt.plot(xlist, ylist, 'bo')\n",
    "    plt.show()\n",
    "    \n",
    "    findClosestHouse(houses, houses[0])\n",
    "    \n",
    "    \n",
    "if __name__ == \"__main__\":\n",
    "    main()\n",
    "    \n"
   ]
  },
  {
   "cell_type": "code",
   "execution_count": null,
   "metadata": {
    "collapsed": true
   },
   "outputs": [],
   "source": []
  }
 ],
 "metadata": {
  "kernelspec": {
   "display_name": "Python 3",
   "language": "python",
   "name": "python3"
  },
  "language_info": {
   "codemirror_mode": {
    "name": "ipython",
    "version": 3
   },
   "file_extension": ".py",
   "mimetype": "text/x-python",
   "name": "python",
   "nbconvert_exporter": "python",
   "pygments_lexer": "ipython3",
   "version": "3.6.4"
  }
 },
 "nbformat": 4,
 "nbformat_minor": 1
}
