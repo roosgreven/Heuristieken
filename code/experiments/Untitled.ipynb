{
 "cells": [
  {
   "cell_type": "code",
   "execution_count": 2,
   "metadata": {},
   "outputs": [],
   "source": [
    "import csv\n",
    "import json\n",
    "\n",
    "linear = []\n",
    "exponential = []\n",
    "kwadratic = []\n",
    "\n",
    "numberOfHouses = 20\n",
    "\n",
    "with open(str(numberOfHouses) + 'simulatedannealing.csv', newline = '') as csvfile:\n",
    "    thisfile = csv.reader(csvfile, delimiter = ';')\n",
    "    \n",
    "    for row in thisfile:\n",
    "        linear.append(float(row[0]))\n",
    "        exponential.append(float(row[1]))\n",
    "        kwadratic.append(float(row[2]))\n",
    "        \n",
    "with open(str(numberOfHouses) + 'simulatedannealing.json', 'w') as outfile:\n",
    "    json.dump({\"temp_i - 1 - coolingrate\": linear, \"temp_i = temp_i - 1 * coolingrate\": exponential, \n",
    "               \"temp_i - 1 ^ coolingrate\": kwadratic}, outfile)\n"
   ]
  },
  {
   "cell_type": "code",
   "execution_count": null,
   "metadata": {},
   "outputs": [],
   "source": []
  }
 ],
 "metadata": {
  "kernelspec": {
   "display_name": "Python 3",
   "language": "python",
   "name": "python3"
  },
  "language_info": {
   "codemirror_mode": {
    "name": "ipython",
    "version": 3
   },
   "file_extension": ".py",
   "mimetype": "text/x-python",
   "name": "python",
   "nbconvert_exporter": "python",
   "pygments_lexer": "ipython3",
   "version": "3.6.5"
  }
 },
 "nbformat": 4,
 "nbformat_minor": 2
}
