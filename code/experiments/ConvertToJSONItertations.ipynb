{
 "cells": [
  {
   "cell_type": "code",
   "execution_count": 12,
   "metadata": {},
   "outputs": [],
   "source": [
    "import csv\n",
    "import json\n",
    "\n",
    "hillclimber = []\n",
    "simannealing = []\n",
    "\n",
    "numberOfHouses = 20\n",
    "counter = 0\n",
    "data = []\n",
    "\n",
    "with open(str(numberOfHouses) + '_iterations' + '.csv', newline = '') as csvfile:\n",
    "    thisfile = csv.reader(csvfile, delimiter = ';')\n",
    "    \n",
    "    for row in thisfile:\n",
    "        iteration = counter + counter * 9\n",
    "        data.append({\"iteration\": iteration , \"Hillclimber\": (float(row[0]) + float(row[1])) / 2, \n",
    "                     \"Simulated Annealing\": (float(row[2]) + float(row[3])) / 2})\n",
    "        counter += 1\n",
    "        \n",
    "with open(str(numberOfHouses) + '_iterations' + '.json', 'w') as outfile:\n",
    "    json.dump(data, outfile)\n"
   ]
  },
  {
   "cell_type": "code",
   "execution_count": null,
   "metadata": {},
   "outputs": [],
   "source": []
  }
 ],
 "metadata": {
  "kernelspec": {
   "display_name": "Python 3",
   "language": "python",
   "name": "python3"
  },
  "language_info": {
   "codemirror_mode": {
    "name": "ipython",
    "version": 3
   },
   "file_extension": ".py",
   "mimetype": "text/x-python",
   "name": "python",
   "nbconvert_exporter": "python",
   "pygments_lexer": "ipython3",
   "version": "3.6.5"
  }
 },
 "nbformat": 4,
 "nbformat_minor": 2
}
