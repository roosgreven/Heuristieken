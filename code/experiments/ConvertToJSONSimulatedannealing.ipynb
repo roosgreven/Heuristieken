{
 "cells": [
  {
   "cell_type": "code",
   "execution_count": 18,
   "metadata": {},
   "outputs": [],
   "source": [
    "import csv\n",
    "import json\n",
    "\n",
    "linear = []\n",
    "exponential = []\n",
    "kwadratic = []\n",
    "\n",
    "numberOfHouses = 60\n",
    "counter = 0\n",
    "\n",
    "with open(str(numberOfHouses) + 'simulatedannealing.csv', newline = '') as csvfile:\n",
    "    thisfile = csv.reader(csvfile, delimiter = ';')\n",
    "    \n",
    "    for row in thisfile:\n",
    "        counter += 1\n",
    "        #print(counter)\n",
    "        linear.append(float(row[0]))\n",
    "        exponential.append(float(row[1]))\n",
    "        kwadratic.append(float(row[2]))\n",
    "        \n",
    "with open(str(numberOfHouses) + 'simulatedannealing.json', 'w') as outfile:\n",
    "    json.dump({\"temp(i) = temp_i - 1 - coolingrate\": linear, \"temp_1 = temp_i - 1 ^ coolingrate\": kwadratic, \n",
    "               \"temp_i = temp_i - 1 * coolingrate\": exponential}, outfile)\n"
   ]
  },
  {
   "cell_type": "code",
   "execution_count": null,
   "metadata": {},
   "outputs": [],
   "source": []
  }
 ],
 "metadata": {
  "kernelspec": {
   "display_name": "Python 3",
   "language": "python",
   "name": "python3"
  },
  "language_info": {
   "codemirror_mode": {
    "name": "ipython",
    "version": 3
   },
   "file_extension": ".py",
   "mimetype": "text/x-python",
   "name": "python",
   "nbconvert_exporter": "python",
   "pygments_lexer": "ipython3",
   "version": "3.6.5"
  }
 },
 "nbformat": 4,
 "nbformat_minor": 2
}
