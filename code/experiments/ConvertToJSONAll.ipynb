{
 "cells": [
  {
   "cell_type": "code",
   "execution_count": 36,
   "metadata": {},
   "outputs": [],
   "source": [
    "import csv\n",
    "import json\n",
    "\n",
    "random = []\n",
    "hillclimber = []\n",
    "greedy = []\n",
    "simulatedannealing = []\n",
    "particleswarm = []\n",
    "\n",
    "data = []\n",
    "numberOfHouses = 40\n",
    "counter = 0\n",
    "\n",
    "with open(str(numberOfHouses) + 'houses.csv', newline = '') as csvfile:\n",
    "    thisfile = csv.reader(csvfile, delimiter = ';')\n",
    "    \n",
    "    for row in thisfile:\n",
    "        counter += 1\n",
    "        if row[0]:\n",
    "            random.append(float(row[0]))\n",
    "        if row[1]:\n",
    "            hillclimber.append(float(row[1]))\n",
    "        if row[2]:\n",
    "            greedy.append(float(row[2]))\n",
    "        if row[3]:\n",
    "            simulatedannealing.append(float(row[3]))\n",
    "        if row[4]:\n",
    "            particleswarm.append(float(row[4]))\n",
    "        #print(counter)\n",
    "        \n",
    "with open(str(numberOfHouses) + 'houses.json', 'w') as outfile:\n",
    "    json.dump({\"Random\": random, \"Greedy\": greedy, \"Simulated Annealing\": simulatedannealing, \n",
    "               \"Hillclimber\": hillclimber, \"Particle Swarm\": particleswarm}, outfile)\n"
   ]
  },
  {
   "cell_type": "code",
   "execution_count": null,
   "metadata": {},
   "outputs": [],
   "source": []
  }
 ],
 "metadata": {
  "kernelspec": {
   "display_name": "Python 3",
   "language": "python",
   "name": "python3"
  },
  "language_info": {
   "codemirror_mode": {
    "name": "ipython",
    "version": 3
   },
   "file_extension": ".py",
   "mimetype": "text/x-python",
   "name": "python",
   "nbconvert_exporter": "python",
   "pygments_lexer": "ipython3",
   "version": "3.6.5"
  }
 },
 "nbformat": 4,
 "nbformat_minor": 2
}
