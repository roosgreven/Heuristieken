{
 "cells": [
  {
   "cell_type": "code",
   "execution_count": 23,
   "metadata": {},
   "outputs": [],
   "source": [
    "import csv\n",
    "import json\n",
    "\n",
    "random = []\n",
    "hillclimber = []\n",
    "greedy = []\n",
    "\n",
    "data = []\n",
    "numberOfHouses = 60\n",
    "\n",
    "with open(str(numberOfHouses) + 'houses.csv', newline = '') as csvfile:\n",
    "    thisfile = csv.reader(csvfile, delimiter = ';')\n",
    "    \n",
    "    for row in thisfile:\n",
    "        random.append(float(row[0]))\n",
    "        hillclimber.append(float(row[1]))\n",
    "        greedy.append(float(row[2]))\n",
    "        \n",
    "with open(str(numberOfHouses) + 'houses.json', 'w') as outfile:\n",
    "    json.dump({\"random\": random, \"greedy\": greedy, \"hillclimber\": hillclimber}, outfile)\n"
   ]
  },
  {
   "cell_type": "code",
   "execution_count": null,
   "metadata": {},
   "outputs": [],
   "source": []
  }
 ],
 "metadata": {
  "kernelspec": {
   "display_name": "Python 3",
   "language": "python",
   "name": "python3"
  },
  "language_info": {
   "codemirror_mode": {
    "name": "ipython",
    "version": 3
   },
   "file_extension": ".py",
   "mimetype": "text/x-python",
   "name": "python",
   "nbconvert_exporter": "python",
   "pygments_lexer": "ipython3",
   "version": "3.6.5"
  }
 },
 "nbformat": 4,
 "nbformat_minor": 2
}
