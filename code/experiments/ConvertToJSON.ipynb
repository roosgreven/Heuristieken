{
 "cells": [
  {
   "cell_type": "code",
   "execution_count": 27,
   "metadata": {},
   "outputs": [
    {
     "name": "stdout",
     "output_type": "stream",
     "text": [
      "maxvalue:  26778885.339394413 minvalue:  25325898.84609087\n",
      "averagevalue:  25981540.865742706\n"
     ]
    }
   ],
   "source": [
    "\"\"\"\n",
    "Converts a csv file to a JSON file\n",
    "\"\"\"\n",
    "\n",
    "import csv\n",
    "import json\n",
    "import math\n",
    "\n",
    "\n",
    "# Array to store data\n",
    "data = []\n",
    "\n",
    "minValue = 3000000000\n",
    "\n",
    "maxValue = 0\n",
    "\n",
    "totalValue = 0\n",
    "\n",
    "counter = 0\n",
    "\n",
    "# Open the CSV file to find minimum and maximum data\n",
    "with open('hillClimber_100_60_100-0-0_Roos.csv', newline='') as csvfile:\n",
    "\n",
    "    # Read CSV file\n",
    "    reader = csv.reader(csvfile, delimiter = ',')\n",
    "\n",
    "    #Lloop over all lines in the file\n",
    "    for row in reader:\n",
    "\n",
    "        # Remember value if it's the maximum so far\n",
    "        if float(row[1]) > float(maxValue):\n",
    "            maxValue = row[1]\n",
    "\n",
    "        # Remember value if it's the minimum so far\n",
    "        if float(row[1]) < float(minValue):\n",
    "            minValue = row[1]\n",
    "            \n",
    "        counter += 1\n",
    "        totalValue += float(row[1])\n",
    "\n",
    "averageValue = totalValue / counter\n",
    "\n",
    "\n",
    "print(\"maxvalue: \", maxValue, \"minvalue: \", minValue) \n",
    "\n",
    "print(\"averagevalue: \", averageValue)\n"
   ]
  },
  {
   "cell_type": "code",
   "execution_count": null,
   "metadata": {},
   "outputs": [],
   "source": []
  }
 ],
 "metadata": {
  "celltoolbar": "Slideshow",
  "kernelspec": {
   "display_name": "Python 3",
   "language": "python",
   "name": "python3"
  },
  "language_info": {
   "codemirror_mode": {
    "name": "ipython",
    "version": 3
   },
   "file_extension": ".py",
   "mimetype": "text/x-python",
   "name": "python",
   "nbconvert_exporter": "python",
   "pygments_lexer": "ipython3",
   "version": "3.6.5"
  }
 },
 "nbformat": 4,
 "nbformat_minor": 2
}
