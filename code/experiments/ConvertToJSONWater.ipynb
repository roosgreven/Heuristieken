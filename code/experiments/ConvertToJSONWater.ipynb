{
 "cells": [
  {
   "cell_type": "code",
   "execution_count": 29,
   "metadata": {},
   "outputs": [],
   "source": [
    "import csv\n",
    "import json\n",
    "\n",
    "setup1 = []\n",
    "setup2 = []\n",
    "setup3 = []\n",
    "setup4 = []\n",
    "maxValue = 0\n",
    "numberOfHouses = 60\n",
    "counter = 0\n",
    "\n",
    "with open(str(numberOfHouses) + 'water.csv', newline = '') as csvfile:\n",
    "    thisfile = csv.reader(csvfile, delimiter = ';')\n",
    "    \n",
    "    for row in thisfile:\n",
    "        \n",
    "        #print(counter)\n",
    "#         if float(row[0]) > maxValue:\n",
    "#             maxValue = float(row[0])\n",
    "#         elif float(row[1]) > maxValue:\n",
    "#             maxValue = float(row[1])\n",
    "#         elif float(row[2]) > maxValue:\n",
    "#             maxValue = float(row[2])\n",
    "#         else:\n",
    "#             maxValue = float(row[1])\n",
    "        setup1.append(row[0])\n",
    "        setup2.append(row[1])\n",
    "        setup3.append(row[2])\n",
    "        setup4.append(row[3])\n",
    "        if not row[0]:\n",
    "            print(\"hallo\")\n",
    "        \n",
    "with open(str(numberOfHouses) + 'water.json', 'w') as outfile:\n",
    "    json.dump({\"1 pond of 80x72\": setup1, \"2 ponds of 64x45\": setup2, \"3 ponds of 48x40\": setup3, \"4 ponds of 40x36\": setup4}, outfile)\n"
   ]
  },
  {
   "cell_type": "code",
   "execution_count": null,
   "metadata": {},
   "outputs": [],
   "source": []
  }
 ],
 "metadata": {
  "kernelspec": {
   "display_name": "Python 3",
   "language": "python",
   "name": "python3"
  },
  "language_info": {
   "codemirror_mode": {
    "name": "ipython",
    "version": 3
   },
   "file_extension": ".py",
   "mimetype": "text/x-python",
   "name": "python",
   "nbconvert_exporter": "python",
   "pygments_lexer": "ipython3",
   "version": "3.6.5"
  }
 },
 "nbformat": 4,
 "nbformat_minor": 2
}
