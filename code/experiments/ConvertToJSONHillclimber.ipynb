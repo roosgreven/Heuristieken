{
 "cells": [
  {
   "cell_type": "code",
   "execution_count": 20,
   "metadata": {},
   "outputs": [],
   "source": [
    "import csv\n",
    "import json\n",
    "\n",
    "thirtyThree = []\n",
    "fifty = []\n",
    "sixty = []\n",
    "hundred = []\n",
    "\n",
    "data = []\n",
    "numberOfHouses = 60\n",
    "\n",
    "with open(str(numberOfHouses) + 'hillclimber.csv', newline = '') as csvfile:\n",
    "    thisfile = csv.reader(csvfile, delimiter = ';')\n",
    "    \n",
    "    for row in thisfile:\n",
    "        thirtyThree.append(float(row[0]))\n",
    "        fifty.append(float(row[1]))\n",
    "        sixty.append(float(row[2]))\n",
    "        hundred.append(float(row[3]))\n",
    "        \n",
    "with open(str(numberOfHouses) + 'hillclimber.json', 'w') as outfile:\n",
    "    json.dump({\"33% - 33% - 33%\": thirtyThree, \"50% - 25% - 25%\": fifty, \"60% - 20% - 20%\": sixty, \n",
    "               \"100% - 0% - 0%\": hundred}, outfile)\n"
   ]
  },
  {
   "cell_type": "code",
   "execution_count": null,
   "metadata": {},
   "outputs": [],
   "source": []
  }
 ],
 "metadata": {
  "kernelspec": {
   "display_name": "Python 3",
   "language": "python",
   "name": "python3"
  },
  "language_info": {
   "codemirror_mode": {
    "name": "ipython",
    "version": 3
   },
   "file_extension": ".py",
   "mimetype": "text/x-python",
   "name": "python",
   "nbconvert_exporter": "python",
   "pygments_lexer": "ipython3",
   "version": "3.6.5"
  }
 },
 "nbformat": 4,
 "nbformat_minor": 2
}
