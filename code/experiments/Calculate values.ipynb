{
 "cells": [
  {
   "cell_type": "code",
   "execution_count": 32,
   "metadata": {},
   "outputs": [
    {
     "name": "stdout",
     "output_type": "stream",
     "text": [
      "maxvalue:  20446415.50367183 minvalue:  18238104.630800337\n",
      "averagevalue:  19322895.82979507\n"
     ]
    }
   ],
   "source": [
    "\"\"\"\n",
    "Converts a csv file to a JSON file\n",
    "\"\"\"\n",
    "\n",
    "import csv\n",
    "import json\n",
    "import math\n",
    "\n",
    "\n",
    "# Array to store data\n",
    "data = []\n",
    "\n",
    "minValue = 3000000000\n",
    "\n",
    "maxValue = 0\n",
    "\n",
    "totalValue = 0\n",
    "\n",
    "counter = 0\n",
    "\n",
    "# Open the CSV file to find minimum and maximum data\n",
    "with open('hillClimber_900_40_60-20-20_Jitse.csv', newline='') as csvfile:\n",
    "\n",
    "    # Read CSV file\n",
    "    reader = csv.reader(csvfile, delimiter = ',')\n",
    "\n",
    "    #Lloop over all lines in the file\n",
    "    for row in reader:\n",
    "\n",
    "        # Remember value if it's the maximum so far\n",
    "        if float(row[1]) > float(maxValue):\n",
    "            maxValue = row[1]\n",
    "\n",
    "        # Remember value if it's the minimum so far\n",
    "        if float(row[1]) < float(minValue):\n",
    "            minValue = row[1]\n",
    "            \n",
    "        counter += 1\n",
    "        totalValue += float(row[1])\n",
    "\n",
    "averageValue = totalValue / counter\n",
    "\n",
    "\n",
    "print(\"maxvalue: \", maxValue, \"minvalue: \", minValue) \n",
    "\n",
    "print(\"averagevalue: \", averageValue)\n"
   ]
  },
  {
   "cell_type": "code",
   "execution_count": null,
   "metadata": {},
   "outputs": [],
   "source": []
  }
 ],
 "metadata": {
  "celltoolbar": "Slideshow",
  "kernelspec": {
   "display_name": "Python 3",
   "language": "python",
   "name": "python3"
  },
  "language_info": {
   "codemirror_mode": {
    "name": "ipython",
    "version": 3
   },
   "file_extension": ".py",
   "mimetype": "text/x-python",
   "name": "python",
   "nbconvert_exporter": "python",
   "pygments_lexer": "ipython3",
   "version": "3.6.5"
  }
 },
 "nbformat": 4,
 "nbformat_minor": 2
}
